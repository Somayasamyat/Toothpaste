import cv2
from roboflow import Roboflow
from ultralytics import YOLO

# Initialize Roboflow to load the model (replace with your details)
rf = Roboflow(api_key="YOUR_ROBOFLOW_API_KEY")
project = rf.workspace("ssafy-ab11i").project("toothpaste")
model = project.version(1).model  # Assuming version 1; check your project

# Alternative: If you have a local YOLO model file (e.g., best.pt from training)
# model = YOLO('path/to/best.pt')

# Load an image (replace with your image path)
image_path = 'path/to/your/image.jpg'  # Or use cv2.VideoCapture(0) for webcam
results = model.predict(image_path, confidence=0.5)  # Confidence threshold for detections

# Process and visualize results
for result in results:
    # Get the annotated image with bounding boxes
    annotated_image = result.plot()  # Draws boxes and labels
    
    # Display using OpenCV
    cv2.imshow('Toothpaste Detection', annotated_image)
    cv2.waitKey(0)  # Press any key to close
    cv2.destroyAllWindows()

# Optional: Save the output
cv2.imwrite('output_with_detections.jpg', annotated_image)

print("Detection complete! Check the output image or window.")
